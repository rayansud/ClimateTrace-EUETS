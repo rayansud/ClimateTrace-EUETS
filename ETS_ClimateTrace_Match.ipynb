{
 "cells": [
  {
   "cell_type": "markdown",
   "id": "58aa9783",
   "metadata": {},
   "source": [
    "# Imports and Data Read"
   ]
  },
  {
   "cell_type": "code",
   "execution_count": 1,
   "id": "4c73ef80",
   "metadata": {},
   "outputs": [],
   "source": [
    "import pandas as pd\n",
    "import geopandas as gpd\n",
    "import numpy as np\n",
    "import geopy\n",
    "from geopy.geocoders import Nominatim\n",
    "from geopy.extra.rate_limiter import RateLimiter\n",
    "from geopy import distance\n",
    "from sklearn.neighbors import BallTree\n",
    "from tqdm import tqdm\n",
    "import plotly.express as px\n",
    "import re\n",
    "from haversine import haversine_vector, Unit"
   ]
  },
  {
   "cell_type": "code",
   "execution_count": 2,
   "id": "38b4d4a2",
   "metadata": {},
   "outputs": [
    {
     "name": "stderr",
     "output_type": "stream",
     "text": [
      "/var/folders/h0/rfb20rk90qz0tdgv08kqcyrw0000gn/T/ipykernel_65426/1304844983.py:2: DtypeWarning: Columns (10,11,18,19) have mixed types. Specify dtype option on import or set low_memory=False.\n",
      "  ets_data = pd.read_csv('EUETS_acquiring_accounts_bytransactions.csv')\n",
      "/var/folders/h0/rfb20rk90qz0tdgv08kqcyrw0000gn/T/ipykernel_65426/1304844983.py:9: FutureWarning: In a future version of pandas all arguments of StringMethods.split except for the argument 'pat' will be keyword-only.\n",
      "  ct_data[['lng', 'lat']] = ct_data['st_astext'].str.split(' ', 1, expand=True)\n"
     ]
    }
   ],
   "source": [
    "ct_data = pd.read_csv('CT_asset_cement_emissions.csv')\n",
    "ets_data = pd.read_csv('EUETS_acquiring_accounts_bytransactions.csv')\n",
    "\n",
    "cols = ['Acquiring.Holder.MainAddressLine', 'Acquiring.Holder.SecondaryAddressLine', 'Acquiring.Holder.City','Acquiring.Holder.ZipCode','Acquiring.Holder.Country']\n",
    "ets_data['Address'] = ets_data[cols].apply(lambda row: ', '.join(row.values.astype(str)), axis=1)\n",
    "ets_data['Address'] = ets_data['Address'].str.replace('nan, ','')\n",
    "ct_data['st_astext'] = ct_data['st_astext'].astype(str)\n",
    "\n",
    "ct_data[['lng', 'lat']] = ct_data['st_astext'].str.split(' ', 1, expand=True)\n",
    "ct_data['lng'] = ct_data['lng'].str.replace('POINT(','',regex=False)\n",
    "ct_data['lat'] = ct_data['lat'].str.replace(')','',regex=False)\n",
    "ct_data['lat'] = ct_data['lat'].astype(float)\n",
    "ct_data['lng'] = ct_data['lng'].astype(float)\n",
    "codes = pd.read_excel('CountryCodes.xlsx')\n"
   ]
  },
  {
   "cell_type": "markdown",
   "id": "3de5ae45",
   "metadata": {},
   "source": [
    "# Filtering CT data for countries that are in ETS data"
   ]
  },
  {
   "cell_type": "code",
   "execution_count": 3,
   "id": "7f716acc",
   "metadata": {
    "scrolled": false
   },
   "outputs": [],
   "source": [
    "ct_data_2digcode = pd.merge(ct_data,codes,how='left',left_on='iso3_country',right_on='Code3')\n",
    "ct_data_filterETS = ct_data_2digcode[ct_data_2digcode['Code2'].isin(ets_data['Acquiring.Holder.CountryCode'].unique())]\n",
    "#ct_data_filterETS.to_csv('filteredETS_CTdata.csv')"
   ]
  },
  {
   "cell_type": "code",
   "execution_count": 4,
   "id": "dac0669c",
   "metadata": {},
   "outputs": [
    {
     "data": {
      "text/html": [
       "<div>\n",
       "<style scoped>\n",
       "    .dataframe tbody tr th:only-of-type {\n",
       "        vertical-align: middle;\n",
       "    }\n",
       "\n",
       "    .dataframe tbody tr th {\n",
       "        vertical-align: top;\n",
       "    }\n",
       "\n",
       "    .dataframe thead th {\n",
       "        text-align: right;\n",
       "    }\n",
       "</style>\n",
       "<table border=\"1\" class=\"dataframe\">\n",
       "  <thead>\n",
       "    <tr style=\"text-align: right;\">\n",
       "      <th></th>\n",
       "      <th>TransactionID</th>\n",
       "      <th>NbOfUnits</th>\n",
       "      <th>Acquiring.AccountIDRegistryCode</th>\n",
       "      <th>Acquiring.AccountID</th>\n",
       "      <th>Acquiring.RegistryCode</th>\n",
       "      <th>Acquiring.NationalAdministrator</th>\n",
       "      <th>Acquiring.AccountStatus</th>\n",
       "      <th>Acquiring.AccountOpeningDate</th>\n",
       "      <th>Acquiring.AccountType</th>\n",
       "      <th>Acquiring.RelatedInstallationAircraftOperatorID</th>\n",
       "      <th>...</th>\n",
       "      <th>Acquiring.CommitmentPeriod</th>\n",
       "      <th>Acquiring.Holder.Name</th>\n",
       "      <th>Acquiring.Holder.City</th>\n",
       "      <th>Acquiring.Holder.SecondaryAddressLine</th>\n",
       "      <th>Acquiring.Holder.RelationshipType</th>\n",
       "      <th>Acquiring.Holder.CountryCode</th>\n",
       "      <th>Acquiring.Holder.Country</th>\n",
       "      <th>Acquiring.Holder.ZipCode</th>\n",
       "      <th>Acquiring.Holder.MainAddressLine</th>\n",
       "      <th>Address</th>\n",
       "    </tr>\n",
       "  </thead>\n",
       "  <tbody>\n",
       "    <tr>\n",
       "      <th>0</th>\n",
       "      <td>FR21168</td>\n",
       "      <td>2000</td>\n",
       "      <td>AT10621</td>\n",
       "      <td>10621.0</td>\n",
       "      <td>AT</td>\n",
       "      <td>Austria</td>\n",
       "      <td>closed</td>\n",
       "      <td>2005-12-29 00:00:00.0</td>\n",
       "      <td>Former Operator Holding Account</td>\n",
       "      <td>NaN</td>\n",
       "      <td>...</td>\n",
       "      <td>Supplementary Program Commitment Period (2005 ...</td>\n",
       "      <td>Martin Pichler Ziegelwerk GmbH.</td>\n",
       "      <td>Aschach an der Donau</td>\n",
       "      <td>Ziegeleistraße 14</td>\n",
       "      <td>Account holder</td>\n",
       "      <td>AT</td>\n",
       "      <td>Austria</td>\n",
       "      <td>4082</td>\n",
       "      <td>NaN</td>\n",
       "      <td>Ziegeleistraße 14, Aschach an der Donau, 4082,...</td>\n",
       "    </tr>\n",
       "    <tr>\n",
       "      <th>1</th>\n",
       "      <td>AT8881</td>\n",
       "      <td>13646</td>\n",
       "      <td>AT10621</td>\n",
       "      <td>10621.0</td>\n",
       "      <td>AT</td>\n",
       "      <td>Austria</td>\n",
       "      <td>closed</td>\n",
       "      <td>2005-12-29 00:00:00.0</td>\n",
       "      <td>Former Operator Holding Account</td>\n",
       "      <td>NaN</td>\n",
       "      <td>...</td>\n",
       "      <td>Supplementary Program Commitment Period (2005 ...</td>\n",
       "      <td>Martin Pichler Ziegelwerk GmbH.</td>\n",
       "      <td>Aschach an der Donau</td>\n",
       "      <td>Ziegeleistraße 14</td>\n",
       "      <td>Account holder</td>\n",
       "      <td>AT</td>\n",
       "      <td>Austria</td>\n",
       "      <td>4082</td>\n",
       "      <td>NaN</td>\n",
       "      <td>Ziegeleistraße 14, Aschach an der Donau, 4082,...</td>\n",
       "    </tr>\n",
       "    <tr>\n",
       "      <th>2</th>\n",
       "      <td>AT13722</td>\n",
       "      <td>13646</td>\n",
       "      <td>AT10621</td>\n",
       "      <td>10621.0</td>\n",
       "      <td>AT</td>\n",
       "      <td>Austria</td>\n",
       "      <td>closed</td>\n",
       "      <td>2005-12-29 00:00:00.0</td>\n",
       "      <td>Former Operator Holding Account</td>\n",
       "      <td>NaN</td>\n",
       "      <td>...</td>\n",
       "      <td>Supplementary Program Commitment Period (2005 ...</td>\n",
       "      <td>Martin Pichler Ziegelwerk GmbH.</td>\n",
       "      <td>Aschach an der Donau</td>\n",
       "      <td>Ziegeleistraße 14</td>\n",
       "      <td>Account holder</td>\n",
       "      <td>AT</td>\n",
       "      <td>Austria</td>\n",
       "      <td>4082</td>\n",
       "      <td>NaN</td>\n",
       "      <td>Ziegeleistraße 14, Aschach an der Donau, 4082,...</td>\n",
       "    </tr>\n",
       "    <tr>\n",
       "      <th>3</th>\n",
       "      <td>AT7617</td>\n",
       "      <td>13646</td>\n",
       "      <td>AT10621</td>\n",
       "      <td>10621.0</td>\n",
       "      <td>AT</td>\n",
       "      <td>Austria</td>\n",
       "      <td>closed</td>\n",
       "      <td>2005-12-29 00:00:00.0</td>\n",
       "      <td>Former Operator Holding Account</td>\n",
       "      <td>NaN</td>\n",
       "      <td>...</td>\n",
       "      <td>Supplementary Program Commitment Period (2005 ...</td>\n",
       "      <td>Martin Pichler Ziegelwerk GmbH.</td>\n",
       "      <td>Aschach an der Donau</td>\n",
       "      <td>Ziegeleistraße 14</td>\n",
       "      <td>Account holder</td>\n",
       "      <td>AT</td>\n",
       "      <td>Austria</td>\n",
       "      <td>4082</td>\n",
       "      <td>NaN</td>\n",
       "      <td>Ziegeleistraße 14, Aschach an der Donau, 4082,...</td>\n",
       "    </tr>\n",
       "    <tr>\n",
       "      <th>4</th>\n",
       "      <td>AT17534</td>\n",
       "      <td>13646</td>\n",
       "      <td>AT10621</td>\n",
       "      <td>10621.0</td>\n",
       "      <td>AT</td>\n",
       "      <td>Austria</td>\n",
       "      <td>closed</td>\n",
       "      <td>2005-12-29 00:00:00.0</td>\n",
       "      <td>Former Operator Holding Account</td>\n",
       "      <td>NaN</td>\n",
       "      <td>...</td>\n",
       "      <td>Supplementary Program Commitment Period (2005 ...</td>\n",
       "      <td>Martin Pichler Ziegelwerk GmbH.</td>\n",
       "      <td>Aschach an der Donau</td>\n",
       "      <td>Ziegeleistraße 14</td>\n",
       "      <td>Account holder</td>\n",
       "      <td>AT</td>\n",
       "      <td>Austria</td>\n",
       "      <td>4082</td>\n",
       "      <td>NaN</td>\n",
       "      <td>Ziegeleistraße 14, Aschach an der Donau, 4082,...</td>\n",
       "    </tr>\n",
       "  </tbody>\n",
       "</table>\n",
       "<p>5 rows × 21 columns</p>\n",
       "</div>"
      ],
      "text/plain": [
       "  TransactionID  NbOfUnits Acquiring.AccountIDRegistryCode  \\\n",
       "0       FR21168       2000                         AT10621   \n",
       "1        AT8881      13646                         AT10621   \n",
       "2       AT13722      13646                         AT10621   \n",
       "3        AT7617      13646                         AT10621   \n",
       "4       AT17534      13646                         AT10621   \n",
       "\n",
       "   Acquiring.AccountID Acquiring.RegistryCode Acquiring.NationalAdministrator  \\\n",
       "0              10621.0                     AT                         Austria   \n",
       "1              10621.0                     AT                         Austria   \n",
       "2              10621.0                     AT                         Austria   \n",
       "3              10621.0                     AT                         Austria   \n",
       "4              10621.0                     AT                         Austria   \n",
       "\n",
       "  Acquiring.AccountStatus Acquiring.AccountOpeningDate  \\\n",
       "0                  closed        2005-12-29 00:00:00.0   \n",
       "1                  closed        2005-12-29 00:00:00.0   \n",
       "2                  closed        2005-12-29 00:00:00.0   \n",
       "3                  closed        2005-12-29 00:00:00.0   \n",
       "4                  closed        2005-12-29 00:00:00.0   \n",
       "\n",
       "             Acquiring.AccountType  \\\n",
       "0  Former Operator Holding Account   \n",
       "1  Former Operator Holding Account   \n",
       "2  Former Operator Holding Account   \n",
       "3  Former Operator Holding Account   \n",
       "4  Former Operator Holding Account   \n",
       "\n",
       "   Acquiring.RelatedInstallationAircraftOperatorID  ...  \\\n",
       "0                                              NaN  ...   \n",
       "1                                              NaN  ...   \n",
       "2                                              NaN  ...   \n",
       "3                                              NaN  ...   \n",
       "4                                              NaN  ...   \n",
       "\n",
       "                          Acquiring.CommitmentPeriod  \\\n",
       "0  Supplementary Program Commitment Period (2005 ...   \n",
       "1  Supplementary Program Commitment Period (2005 ...   \n",
       "2  Supplementary Program Commitment Period (2005 ...   \n",
       "3  Supplementary Program Commitment Period (2005 ...   \n",
       "4  Supplementary Program Commitment Period (2005 ...   \n",
       "\n",
       "             Acquiring.Holder.Name Acquiring.Holder.City  \\\n",
       "0  Martin Pichler Ziegelwerk GmbH.  Aschach an der Donau   \n",
       "1  Martin Pichler Ziegelwerk GmbH.  Aschach an der Donau   \n",
       "2  Martin Pichler Ziegelwerk GmbH.  Aschach an der Donau   \n",
       "3  Martin Pichler Ziegelwerk GmbH.  Aschach an der Donau   \n",
       "4  Martin Pichler Ziegelwerk GmbH.  Aschach an der Donau   \n",
       "\n",
       "  Acquiring.Holder.SecondaryAddressLine Acquiring.Holder.RelationshipType  \\\n",
       "0                     Ziegeleistraße 14                    Account holder   \n",
       "1                     Ziegeleistraße 14                    Account holder   \n",
       "2                     Ziegeleistraße 14                    Account holder   \n",
       "3                     Ziegeleistraße 14                    Account holder   \n",
       "4                     Ziegeleistraße 14                    Account holder   \n",
       "\n",
       "  Acquiring.Holder.CountryCode Acquiring.Holder.Country  \\\n",
       "0                           AT                  Austria   \n",
       "1                           AT                  Austria   \n",
       "2                           AT                  Austria   \n",
       "3                           AT                  Austria   \n",
       "4                           AT                  Austria   \n",
       "\n",
       "  Acquiring.Holder.ZipCode Acquiring.Holder.MainAddressLine  \\\n",
       "0                     4082                              NaN   \n",
       "1                     4082                              NaN   \n",
       "2                     4082                              NaN   \n",
       "3                     4082                              NaN   \n",
       "4                     4082                              NaN   \n",
       "\n",
       "                                             Address  \n",
       "0  Ziegeleistraße 14, Aschach an der Donau, 4082,...  \n",
       "1  Ziegeleistraße 14, Aschach an der Donau, 4082,...  \n",
       "2  Ziegeleistraße 14, Aschach an der Donau, 4082,...  \n",
       "3  Ziegeleistraße 14, Aschach an der Donau, 4082,...  \n",
       "4  Ziegeleistraße 14, Aschach an der Donau, 4082,...  \n",
       "\n",
       "[5 rows x 21 columns]"
      ]
     },
     "execution_count": 4,
     "metadata": {},
     "output_type": "execute_result"
    }
   ],
   "source": [
    "ets_data.head()"
   ]
  },
  {
   "cell_type": "markdown",
   "id": "09b1bb09",
   "metadata": {},
   "source": [
    "# Geocoding all ETS addresses to Lat,Lng"
   ]
  },
  {
   "cell_type": "code",
   "execution_count": null,
   "id": "5f5c0be5",
   "metadata": {},
   "outputs": [],
   "source": [
    "locator = Nominatim(user_agent=\"myGeocoder\")\n",
    "unique_locs=ets_data['Address'].unique()\n",
    "\n",
    "latlngs = np.zeros((len(unique_locs),2))\n",
    "\n",
    "for idx,loc in enumerate(tqdm(unique_locs)):\n",
    "    try:\n",
    "        gc = locator.geocode(loc)\n",
    "        latlngs[idx,0]=gc.latitude\n",
    "        latlngs[idx,1]=gc.longitude\n",
    "    except:\n",
    "        latlngs[idx,0]=91\n",
    "        latlngs[idx,1]=91\n",
    "#ets_data['point'] = ets_data['location'].apply(lambda loc: tuple(loc.point) if loc else None)\n",
    "#ets_data[['latitude', 'longitude', 'altitude']] = pd.DataFrame(df['point'].tolist(), index=df.index)"
   ]
  },
  {
   "cell_type": "code",
   "execution_count": null,
   "id": "900d9b6f",
   "metadata": {},
   "outputs": [],
   "source": [
    "np.savetxt(\"GeocodedETSLatlngs.csv\", latlngs, delimiter=\",\")"
   ]
  },
  {
   "cell_type": "code",
   "execution_count": null,
   "id": "eac0f214",
   "metadata": {},
   "outputs": [],
   "source": [
    "latlngs = np.loadtxt('GeocodedETSLatlngs.csv',delimiter=',')\n",
    "fig = px.scatter_geo(lat=latlngs[:,0], lon=latlngs[:,1],hover_name=unique_locs)"
   ]
  },
  {
   "cell_type": "markdown",
   "id": "9343e8e4",
   "metadata": {},
   "source": [
    "## TODO:\n",
    "* Reverse geocode all CT points\n",
    "* Match CT and ETS on country AND zip code\n",
    "* Generate distances between all matches pairs\n",
    "* For distances below 5km"
   ]
  },
  {
   "cell_type": "markdown",
   "id": "a6408cae",
   "metadata": {},
   "source": [
    "# Reverse Geocode all CT points to get Country,Zip"
   ]
  },
  {
   "cell_type": "code",
   "execution_count": 7,
   "id": "82c876b6",
   "metadata": {
    "scrolled": true
   },
   "outputs": [
    {
     "name": "stderr",
     "output_type": "stream",
     "text": [
      "  0%|                                                                                                                                             | 0/992200 [00:00<?, ?it/s]"
     ]
    },
    {
     "name": "stdout",
     "output_type": "stream",
     "text": [
      "['N' '' '' ... '' '' '']\n"
     ]
    },
    {
     "name": "stderr",
     "output_type": "stream",
     "text": [
      "\n"
     ]
    }
   ],
   "source": [
    "ct_addresses = np.zeros(len(ct_data.lat),dtype=str)\n",
    "\n",
    "for idx,loc in enumerate(tqdm(ct_data.lat)):\n",
    "    try:\n",
    "        ct_addresses[idx]=(locator.reverse(str(ct_data.lat[idx])+','+str(ct_data.lng[idx])))\n",
    "    except:\n",
    "        ct_addresses[idx]='NA'\n",
    "    print(ct_addresses)\n",
    "    break\n",
    "#ets_data['point'] = ets_data['location'].apply(lambda loc: tuple(loc.point) if loc else None)\n",
    "#ets_data[['latitude', 'longitude', 'altitude']] = pd.DataFrame(df['point'].tolist(), index=df.index)"
   ]
  },
  {
   "cell_type": "markdown",
   "id": "81271816",
   "metadata": {},
   "source": [
    "# Generate distance between all pairs of CT lat,lng and ETS lat,lng in same country"
   ]
  },
  {
   "cell_type": "markdown",
   "id": "b293a17d",
   "metadata": {},
   "source": [
    "## TODO:\n",
    "* Split CT and ETS into country blocks\n",
    "* For each matching country block, calculate haversine"
   ]
  },
  {
   "cell_type": "code",
   "execution_count": null,
   "id": "b8537374",
   "metadata": {},
   "outputs": [],
   "source": [
    "ets_country_blocks = []\n",
    "ct_country_blocks = []\n",
    "\n",
    "all_countries_ets = ct_data_filterETS['Code2'].unique()\n",
    "all_countries_ct = ets_data['Acquiring.Holder.CountryCode'].unique()\n",
    "\n",
    "for country in all_countries_ets:\n",
    "    "
   ]
  },
  {
   "cell_type": "code",
   "execution_count": 34,
   "id": "1fdcf4ee",
   "metadata": {},
   "outputs": [
    {
     "data": {
      "text/plain": [
       "923560"
      ]
     },
     "execution_count": 34,
     "metadata": {},
     "output_type": "execute_result"
    }
   ],
   "source": [
    "haversine_vector(ETS_countryblock, CT_countryblock, Unit.KILOMETERS, comb=True)\n",
    "len(ct_data_filterETS)*len(latlngs)"
   ]
  },
  {
   "cell_type": "code",
   "execution_count": 32,
   "id": "d0a5a087",
   "metadata": {},
   "outputs": [
    {
     "data": {
      "text/plain": [
       "13201"
      ]
     },
     "execution_count": 32,
     "metadata": {},
     "output_type": "execute_result"
    }
   ],
   "source": []
  }
 ],
 "metadata": {
  "kernelspec": {
   "display_name": "Python 3 (ipykernel)",
   "language": "python",
   "name": "python3"
  },
  "language_info": {
   "codemirror_mode": {
    "name": "ipython",
    "version": 3
   },
   "file_extension": ".py",
   "mimetype": "text/x-python",
   "name": "python",
   "nbconvert_exporter": "python",
   "pygments_lexer": "ipython3",
   "version": "3.10.0"
  }
 },
 "nbformat": 4,
 "nbformat_minor": 5
}
